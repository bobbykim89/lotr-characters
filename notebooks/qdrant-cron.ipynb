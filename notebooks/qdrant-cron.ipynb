{
 "cells": [
  {
   "cell_type": "code",
   "execution_count": 12,
   "id": "046eceec",
   "metadata": {},
   "outputs": [
    {
     "data": {
      "text/plain": [
       "True"
      ]
     },
     "execution_count": 12,
     "metadata": {},
     "output_type": "execute_result"
    }
   ],
   "source": [
    "from qdrant_client import QdrantClient\n",
    "from dotenv import load_dotenv\n",
    "from os import environ\n",
    "import json\n",
    "\n",
    "load_dotenv()"
   ]
  },
  {
   "cell_type": "code",
   "execution_count": 6,
   "id": "5703391c",
   "metadata": {},
   "outputs": [],
   "source": [
    "QDRANT_URL = environ.get(\"QDRANT_URL\")\n",
    "QDRANT_API_KEY = environ.get(\"QDRANT_API_KEY\")\n",
    "COLLECTION_NAME = 'lotr-characters'"
   ]
  },
  {
   "cell_type": "code",
   "execution_count": 5,
   "id": "5b2b2046",
   "metadata": {},
   "outputs": [],
   "source": [
    "qd_client = QdrantClient(url=QDRANT_URL, api_key=QDRANT_API_KEY)"
   ]
  },
  {
   "cell_type": "code",
   "execution_count": 7,
   "id": "8c1aafbd",
   "metadata": {},
   "outputs": [],
   "source": [
    "records, next_page_offset = qd_client.scroll(\n",
    "    collection_name=COLLECTION_NAME,\n",
    "    limit=100,\n",
    "    with_payload=True,\n",
    "    with_vectors=False\n",
    ")"
   ]
  },
  {
   "cell_type": "code",
   "execution_count": 10,
   "id": "126cda40",
   "metadata": {},
   "outputs": [
    {
     "name": "stdout",
     "output_type": "stream",
     "text": [
      "Total records: 749\n"
     ]
    }
   ],
   "source": [
    "all_records = records\n",
    "while next_page_offset is not None:\n",
    "    records, next_page_offset = qd_client.scroll(\n",
    "        collection_name=COLLECTION_NAME,\n",
    "        limit=100,\n",
    "        offset=next_page_offset,\n",
    "        with_payload=True,\n",
    "        with_vectors=False\n",
    "    )\n",
    "    all_records.extend(records)\n",
    "\n",
    "print(f\"Total records: {len(all_records)}\")"
   ]
  },
  {
   "cell_type": "code",
   "execution_count": 15,
   "id": "e6ef905e",
   "metadata": {},
   "outputs": [],
   "source": [
    "records_data = []\n",
    "\n",
    "for record in all_records:\n",
    "    record_dict = {\n",
    "        \"id\": record.id,\n",
    "        \"payload\": record.payload\n",
    "    }\n",
    "    records_data.append(record_dict)"
   ]
  },
  {
   "cell_type": "code",
   "execution_count": 18,
   "id": "b6429cca",
   "metadata": {},
   "outputs": [],
   "source": [
    "with open(\"../dist/qdrant_records.json\", 'w', encoding=\"utf-8\") as file:\n",
    "    json.dump(records_data, file, indent=2, ensure_ascii=False)"
   ]
  },
  {
   "cell_type": "code",
   "execution_count": null,
   "id": "14913bbb",
   "metadata": {},
   "outputs": [],
   "source": []
  }
 ],
 "metadata": {
  "kernelspec": {
   "display_name": ".venv (3.11.2)",
   "language": "python",
   "name": "python3"
  },
  "language_info": {
   "codemirror_mode": {
    "name": "ipython",
    "version": 3
   },
   "file_extension": ".py",
   "mimetype": "text/x-python",
   "name": "python",
   "nbconvert_exporter": "python",
   "pygments_lexer": "ipython3",
   "version": "3.11.2"
  }
 },
 "nbformat": 4,
 "nbformat_minor": 5
}
