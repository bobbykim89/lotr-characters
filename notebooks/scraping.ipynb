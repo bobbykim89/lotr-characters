{
 "cells": [
  {
   "cell_type": "code",
   "execution_count": 32,
   "id": "f16bd290",
   "metadata": {},
   "outputs": [],
   "source": [
    "import pandas as pd\n",
    "import json\n",
    "import requests\n",
    "from bs4 import BeautifulSoup\n",
    "from tqdm.auto import tqdm\n",
    "import unicodedata"
   ]
  },
  {
   "cell_type": "code",
   "execution_count": 33,
   "id": "e2aaff93",
   "metadata": {},
   "outputs": [],
   "source": [
    "character_csv = pd.read_csv('../assets/characters_with_link.csv', encoding='utf-8')\n",
    "character_csv.to_json('../assets/characters_with_link.json', orient='records', indent=4)"
   ]
  },
  {
   "cell_type": "code",
   "execution_count": 34,
   "id": "70f373e7",
   "metadata": {},
   "outputs": [],
   "source": [
    "char_detail_csv = pd.read_csv('../assets/characters_detail.csv', encoding='utf-8')\n",
    "char_detail_csv.to_json('../assets/characters_detail.json', orient='records', indent=4)"
   ]
  },
  {
   "cell_type": "code",
   "execution_count": 35,
   "id": "e18661e3",
   "metadata": {},
   "outputs": [],
   "source": [
    "with open('../assets/characters_with_link.json', 'r') as file:\n",
    "    character_json = json.load(file)\n",
    "\n",
    "with open('../assets/characters_detail.json', 'r') as file:\n",
    "    character_detail_json = json.load(file)"
   ]
  },
  {
   "cell_type": "code",
   "execution_count": 36,
   "id": "38b4a299",
   "metadata": {},
   "outputs": [],
   "source": [
    "def format_biography(soup: BeautifulSoup)-> str | None:\n",
    "    try:\n",
    "        biography_section = soup.find('h2', id='Biography')\n",
    "        if not biography_section:\n",
    "            span_with_id = soup.find('span', id='Biography')\n",
    "            if span_with_id and span_with_id.parent.name == 'h2':\n",
    "                biography_section = span_with_id.parent\n",
    "        if not biography_section:\n",
    "            return None\n",
    "        biography_content = []\n",
    "        biography_current_elem = biography_section.next_sibling\n",
    "        while biography_current_elem:\n",
    "            # Skip text nodes that are just whitespace\n",
    "            if biography_current_elem.name:\n",
    "                # Stop if hit another h2\n",
    "                if biography_current_elem.name == 'h2':\n",
    "                    break\n",
    "                text_content = biography_current_elem.get_text().strip()\n",
    "                biography_content.append(text_content)\n",
    "            biography_current_elem = biography_current_elem.next_sibling\n",
    "        biography_text = '\\n'.join(biography_content)\n",
    "        return biography_text\n",
    "    except Exception as e:\n",
    "        print(f\"Error parsing content: {e}\")\n",
    "        return None"
   ]
  },
  {
   "cell_type": "code",
   "execution_count": 27,
   "id": "ad5e6c56",
   "metadata": {},
   "outputs": [],
   "source": [
    "def format_history(soup: BeautifulSoup)-> str | None:\n",
    "    try:\n",
    "        history_section = soup.find('h2', id='History')\n",
    "        if not history_section:\n",
    "            span_with_id = soup.find('span', id='History')\n",
    "            if span_with_id and span_with_id.parent.name == 'h2':\n",
    "                history_section = span_with_id.parent\n",
    "        if not history_section:\n",
    "            return None\n",
    "        history_content = []\n",
    "        history_current_elem = history_section.next_sibling\n",
    "        while history_current_elem:\n",
    "            # skip text nodes that are just whitespace\n",
    "            if history_current_elem.name:\n",
    "                # Stop if hit another h2\n",
    "                if history_current_elem.name == 'h2':\n",
    "                    break\n",
    "                text_content = history_current_elem.get_text().strip()\n",
    "                history_content.append(text_content)\n",
    "            history_current_elem = history_current_elem.next_sibling\n",
    "        history_text = '\\n'.join(history_content)\n",
    "        return history_text\n",
    "    except Exception as e:\n",
    "        print(f\"Error parsing content: {e}\")\n",
    "        return None"
   ]
  },
  {
   "cell_type": "code",
   "execution_count": 37,
   "id": "c35f2f7f",
   "metadata": {},
   "outputs": [],
   "source": [
    "def scrape_content(url: str)-> dict[str, str | None]:\n",
    "    try:\n",
    "        res = requests.get(url)\n",
    "        res.raise_for_status()\n",
    "        soup = BeautifulSoup(res.content, 'html.parser')\n",
    "\n",
    "        biography_text = format_biography(soup=soup)\n",
    "        history_text = format_history(soup=soup)\n",
    "        \n",
    "        return {\n",
    "            \"biography\": biography_text,\n",
    "            \"history\": history_text\n",
    "        }\n",
    "    except requests.RequestException as e:\n",
    "        print(f\"Error fetching page: {e}\")\n",
    "        return {\n",
    "            \"biography\": None,\n",
    "            \"history\": None\n",
    "        }\n",
    "    \n",
    "    except Exception as e:\n",
    "        print(f\"Error parsing content: {e}\")\n",
    "        return {\n",
    "            \"biography\": None,\n",
    "            \"history\": None\n",
    "        }\n"
   ]
  },
  {
   "cell_type": "code",
   "execution_count": 38,
   "id": "2ea639ea",
   "metadata": {},
   "outputs": [],
   "source": [
    "def normalize_name(name: str):\n",
    "    # remove accents and convert to lower case for comparison\n",
    "    # Normalize to NFD (decomposed form)\n",
    "    normalized = unicodedata.normalize('NFD', name)\n",
    "    # filter out combining characters (accents, diacritics)\n",
    "    ascii_text = ''.join(c for c in normalized if unicodedata.category(c) != 'Mn')\n",
    "    return ascii_text.lower().strip()"
   ]
  },
  {
   "cell_type": "code",
   "execution_count": 40,
   "id": "024852cc",
   "metadata": {},
   "outputs": [
    {
     "data": {
      "text/plain": [
       "'numenor'"
      ]
     },
     "execution_count": 40,
     "metadata": {},
     "output_type": "execute_result"
    }
   ],
   "source": [
    "normalize_name('Númenor')"
   ]
  },
  {
   "cell_type": "code",
   "execution_count": 41,
   "id": "72a578ab",
   "metadata": {},
   "outputs": [],
   "source": [
    "def get_character_detail(name: str)-> dict | None:\n",
    "    normalized_search_name = normalize_name(name)\n",
    "    found_object = None\n",
    "\n",
    "    for item in character_detail_json:\n",
    "        if normalize_name(item['name']) == normalized_search_name:\n",
    "            found_object = item\n",
    "            break # Exit loop after finding the first match\n",
    "\n",
    "    if found_object:\n",
    "        return found_object\n",
    "    else:\n",
    "        print(f\"No object with found with name: {name}\")\n",
    "        return None"
   ]
  },
  {
   "cell_type": "code",
   "execution_count": 42,
   "id": "55d79f01",
   "metadata": {},
   "outputs": [],
   "source": [
    "def scrape_and_save_in_json(file_name: str):\n",
    "    characters = []\n",
    "    for character in tqdm(character_json):\n",
    "        character_detail = {\n",
    "            \"biography\": None,\n",
    "            \"history\": None\n",
    "        }\n",
    "        detail = get_character_detail(name=character['Name'])\n",
    "        if detail is not None:\n",
    "            if character['Url'] is not None:\n",
    "                character_detail = scrape_content(url=character['Url'])\n",
    "            character_obj = {**detail, **character_detail}\n",
    "            characters.append(character_obj)\n",
    "    with open(f\"../dist/{file_name}.json\", \"w\") as file:\n",
    "        json.dump(characters, file, indent=4)\n",
    "    print(f\"Successfully saved {len(characters)} entries to {file_name}.json\")"
   ]
  },
  {
   "cell_type": "code",
   "execution_count": 43,
   "id": "46ad071f",
   "metadata": {},
   "outputs": [
    {
     "data": {
      "application/vnd.jupyter.widget-view+json": {
       "model_id": "0cba0f35c2e9473ba4a77877dc3f4c99",
       "version_major": 2,
       "version_minor": 0
      },
      "text/plain": [
       "  0%|          | 0/755 [00:00<?, ?it/s]"
      ]
     },
     "metadata": {},
     "output_type": "display_data"
    },
    {
     "name": "stdout",
     "output_type": "stream",
     "text": [
      "No object with found with name: Baranor (Gondor)\n",
      "No object with found with name: Vigo Boffin\n",
      "Error fetching page: 404 Client Error: Not Found for url: https://lotr.fandom.com/wiki/Galar\n",
      "No object with found with name: Gormadoc Deepdelver Brandybuck\n",
      "No object with found with name: Holfast Gardner\n",
      "No object with found with name: Malva Headstrong Brandybuck\n",
      "Error fetching page: 404 Client Error: Not Found for url: https://lotr.fandom.com/wiki/Inigo_Baggins\n",
      "No object with found with name: Goldberry\n",
      "Successfully saved 749 entries to lotr_characters.json\n"
     ]
    }
   ],
   "source": [
    "scrape_and_save_in_json('lotr_characters')"
   ]
  },
  {
   "cell_type": "code",
   "execution_count": 44,
   "id": "031673af",
   "metadata": {},
   "outputs": [],
   "source": [
    "with open('../dist/lotr_characters.json', 'r') as file:\n",
    "    lotr_characters = json.load(file)"
   ]
  },
  {
   "cell_type": "code",
   "execution_count": 45,
   "id": "3576d0e3",
   "metadata": {},
   "outputs": [
    {
     "name": "stdout",
     "output_type": "stream",
     "text": [
      "749 out of 755 entries sorted\n"
     ]
    }
   ],
   "source": [
    "input_len = len(character_json)\n",
    "output_len = len(lotr_characters)\n",
    "print(f\"{output_len} out of {input_len} entries sorted\")"
   ]
  },
  {
   "cell_type": "code",
   "execution_count": 46,
   "id": "f22c2101",
   "metadata": {},
   "outputs": [],
   "source": [
    "character_df = pd.DataFrame(lotr_characters)\n",
    "len(character_df)\n",
    "character_df.to_csv('../dist/lotr_characters.csv')"
   ]
  },
  {
   "cell_type": "code",
   "execution_count": 47,
   "id": "4cc21736",
   "metadata": {},
   "outputs": [
    {
     "name": "stdout",
     "output_type": "stream",
     "text": [
      "{'name': 'manguito', 'type': 'lovebird', 'age': 4, 'color': 'red, green, blue'}\n"
     ]
    }
   ],
   "source": [
    "dict_1 = {'name': 'manguito', 'type': 'lovebird'}\n",
    "dict_2 = {'age': 4, 'color': 'red, green, blue'}\n",
    "pollito = {**dict_1, **dict_2}\n",
    "print(pollito)"
   ]
  },
  {
   "cell_type": "code",
   "execution_count": 48,
   "id": "b4d92796",
   "metadata": {},
   "outputs": [
    {
     "data": {
      "text/plain": [
       "{'biography': 'Baranor was the brother of Boron and son of Baran; and therefore, grandson of Bëor. He had one son called Bereg who led a group of restless men out of Estolad and southwards out of Beleriand.',\n",
       " 'history': None}"
      ]
     },
     "execution_count": 48,
     "metadata": {},
     "output_type": "execute_result"
    }
   ],
   "source": [
    "scrape_content(url=\"https://lotr.fandom.com/wiki/Baranor\")"
   ]
  },
  {
   "cell_type": "code",
   "execution_count": null,
   "id": "8cf0de65",
   "metadata": {},
   "outputs": [],
   "source": []
  }
 ],
 "metadata": {
  "kernelspec": {
   "display_name": ".venv (3.11.2)",
   "language": "python",
   "name": "python3"
  },
  "language_info": {
   "codemirror_mode": {
    "name": "ipython",
    "version": 3
   },
   "file_extension": ".py",
   "mimetype": "text/x-python",
   "name": "python",
   "nbconvert_exporter": "python",
   "pygments_lexer": "ipython3",
   "version": "3.11.2"
  }
 },
 "nbformat": 4,
 "nbformat_minor": 5
}
