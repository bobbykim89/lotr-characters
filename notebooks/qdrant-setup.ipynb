{
 "cells": [
  {
   "cell_type": "code",
   "execution_count": 41,
   "id": "643f7d8c",
   "metadata": {},
   "outputs": [
    {
     "data": {
      "text/plain": [
       "True"
      ]
     },
     "execution_count": 41,
     "metadata": {},
     "output_type": "execute_result"
    }
   ],
   "source": [
    "from qdrant_client import QdrantClient, models\n",
    "from dotenv import load_dotenv\n",
    "import uuid\n",
    "import json\n",
    "import requests\n",
    "from os import environ\n",
    "import time\n",
    "\n",
    "load_dotenv()"
   ]
  },
  {
   "cell_type": "code",
   "execution_count": 24,
   "id": "5b606ddd",
   "metadata": {},
   "outputs": [
    {
     "name": "stdout",
     "output_type": "stream",
     "text": [
      "Loaded 749 entries.\n"
     ]
    }
   ],
   "source": [
    "# init qdrant\n",
    "qd_client = QdrantClient(url=\"http://localhost:6666\")\n",
    "\n",
    "# read json file\n",
    "with open('../dist/lotr_characters.json', 'r') as file:\n",
    "    characters = json.load(file)\n",
    "\n",
    "print(f\"Loaded {len(characters)} entries.\")"
   ]
  },
  {
   "cell_type": "code",
   "execution_count": 33,
   "id": "2f90e846",
   "metadata": {},
   "outputs": [],
   "source": [
    "collection_name = 'lotr-characters'\n",
    "embedding_dimension = 1024\n",
    "jina_embedding_model = \"jina-embeddings-v4\"\n",
    "jina_url = \"https://api.jina.ai/v1/embeddings\"\n",
    "jina_api_key = environ.get('JINA_API_KEY')\n",
    "indexing_task = \"retrieval.passage\"\n",
    "querying_task = \"retrieval.query\""
   ]
  },
  {
   "cell_type": "code",
   "execution_count": 51,
   "id": "3bccfc3d",
   "metadata": {},
   "outputs": [],
   "source": [
    "def create_jina_embedding(input_text: str, task = indexing_task)-> list:\n",
    "    \"\"\"\n",
    "    Create embedding using Jina API\n",
    "    Returns a single embedding vector (list of floats)\n",
    "    \"\"\"\n",
    "    headers = {\n",
    "        \"Content-Type\": \"application/json\",\n",
    "        \"Authorization\": f\"Bearer {jina_api_key}\",\n",
    "    }\n",
    "    data = {\n",
    "        \"input\": [input_text],\n",
    "        \"model\": jina_embedding_model,\n",
    "        \"dimensions\": embedding_dimension,\n",
    "        \"task\": task,\n",
    "        \"late_chunking\": True,\n",
    "    }\n",
    "    try:\n",
    "        res = requests.post(url=jina_url, headers=headers, json=data, timeout=30)\n",
    "        if res.status_code == 200:\n",
    "            embedding = res.json()[\"data\"][0][\"embedding\"]\n",
    "            return embedding\n",
    "        else:\n",
    "            raise Exception(f\"Jina API error: {res.status_code} - {res.text}\")\n",
    "    except requests.RequestException as e:\n",
    "        raise Exception(f\"Request failed: {str(e)}\")"
   ]
  },
  {
   "cell_type": "code",
   "execution_count": 40,
   "id": "c25208de",
   "metadata": {},
   "outputs": [],
   "source": [
    "def create_jina_embedding_batch(input_texts: list)-> list:\n",
    "    \"\"\"\n",
    "    Create embeddings for multiple texts in a single API call (more efficient)\n",
    "    Returns list of embedding vectors\n",
    "    \"\"\"\n",
    "    headers = {\n",
    "        \"Content-Type\": \"application/json\",\n",
    "        \"Authorization\": f\"Bearer {jina_api_key}\",\n",
    "    }\n",
    "    data = {\n",
    "        \"input\": input_texts,\n",
    "        \"model\": jina_embedding_model,\n",
    "        \"dimensions\": embedding_dimension,\n",
    "        \"task\": indexing_task,\n",
    "        \"late_chunking\": True,\n",
    "    }\n",
    "    try:\n",
    "        res = requests.post(url=jina_url, headers=headers, json=data, timeout=60)\n",
    "        if res.status_code == 200:\n",
    "            # Extract all embeddings from the response\n",
    "            embeddings = [d[\"embedding\"] for d in res.json()[\"data\"]]\n",
    "            return embeddings\n",
    "        else:\n",
    "            raise Exception(f\"Jina API error: {res.status_code} - {res.text}\")\n",
    "    except requests.RequestException as e:\n",
    "        raise Exception(f\"Request failed: {str(e)}\")"
   ]
  },
  {
   "cell_type": "code",
   "execution_count": 14,
   "id": "74b0da48",
   "metadata": {},
   "outputs": [],
   "source": [
    "def reinitiate_collection():\n",
    "    is_collection_exist = qd_client.collection_exists(collection_name=collection_name)\n",
    "    if is_collection_exist:\n",
    "        qd_client.delete_collection(collection_name=collection_name)\n",
    "        print(f\"Deleted existing collection: {collection_name}\")\n",
    "    print(f\"Collection {collection_name} didn't exist, creating new one\")\n",
    "    qd_client.create_collection(\n",
    "        collection_name=collection_name,\n",
    "        vectors_config=models.VectorParams(\n",
    "            size=embedding_dimension, # Dimensionality of the vectors\n",
    "            distance=models.Distance.COSINE # Distance metric for similarity search\n",
    "        )\n",
    "    )\n",
    "    print(\"Created the new collection\")"
   ]
  },
  {
   "cell_type": "code",
   "execution_count": 42,
   "id": "6cd23c1e",
   "metadata": {},
   "outputs": [],
   "source": [
    "def upsert_to_qdrant():\n",
    "    \"\"\"\n",
    "    Updated function to use Jina API for embeddings instead of FastEmbed\n",
    "    \"\"\"\n",
    "    if not qd_client.collection_exists(collection_name=collection_name):\n",
    "        print(f\"Collection {collection_name} does not exist.\")\n",
    "        return\n",
    "    \n",
    "\n",
    "    points = []\n",
    "    print(\"Creating embeddings and preparing points...\")\n",
    "    # Process one by one (simpler but slower)\n",
    "    for i, character in enumerate(characters):\n",
    "        try:\n",
    "            # Get embedding from Jina API\n",
    "            embedding = create_jina_embedding(character['name'])\n",
    "            point = models.PointStruct(\n",
    "                id=uuid.uuid4().hex(),\n",
    "                vector=embedding,\n",
    "                payload=character\n",
    "            )\n",
    "            points.append(point)\n",
    "\n",
    "            # Add small delay to avoid rate limiting\n",
    "            if i > 0 and i % 10 == 0:\n",
    "                time.sleep(0.1)\n",
    "                print(f\"Processed {i+1}/{len(characters)} characters...\")\n",
    "        except Exception as e:\n",
    "            print(f\"Error creating embedding for character '{character['name']}': {str(e)}\")\n",
    "            continue\n",
    "    if not points:\n",
    "        print(\"No valid points to upsert..\")\n",
    "        return\n",
    "    print(\"Initialize upserting process...\")\n",
    "    try:\n",
    "        qd_client.upsert(\n",
    "            collection_name=collection_name,\n",
    "            points=points\n",
    "        )\n",
    "    except Exception as e:\n",
    "        print(f\"Error during upsert: {str(e)}\")"
   ]
  },
  {
   "cell_type": "code",
   "execution_count": 43,
   "id": "2b8fd46b",
   "metadata": {},
   "outputs": [],
   "source": [
    "def upsert_to_qdrant_batch():\n",
    "    \"\"\"\n",
    "    More efficient version using batch embedding creation\n",
    "    \"\"\"\n",
    "    if not qd_client.collection_exists(collection_name=collection_name):\n",
    "        print(f'Collection {collection_name} does not exist.')\n",
    "        return\n",
    "    \n",
    "    print(\"Creating batch embeddings...\")\n",
    "    try:\n",
    "        # Extract character names for batch embedding\n",
    "        character_names = [character[\"name\"] for character in characters]\n",
    "\n",
    "        # Create all embeddings in one API call\n",
    "        embeddings = create_jina_embedding_batch(character_names)\n",
    "\n",
    "        # Create points with embeddings\n",
    "        points = []\n",
    "        for character, embedding in zip(characters, embeddings):\n",
    "            point = models.PointStruct(\n",
    "                id=uuid.uuid4().hex,\n",
    "                vector=embedding,\n",
    "                payload=character\n",
    "            )\n",
    "            points.append(point)\n",
    "        \n",
    "        print(\"Starting upsert process...\")\n",
    "        qd_client.upsert(\n",
    "            collection_name=collection_name,\n",
    "            points=points\n",
    "        )\n",
    "        print(f\"Successfully upserted {len(points)} entries.\")\n",
    "    except Exception as e:\n",
    "        print(f\"Error during batch processing: {str(e)}\")"
   ]
  },
  {
   "cell_type": "code",
   "execution_count": 47,
   "id": "1e6795c4",
   "metadata": {},
   "outputs": [],
   "source": [
    "def upsert_to_qdrant_chunked(chunk_size: int = 100):\n",
    "    \"\"\"\n",
    "    Process large datasets in chunks to avoid API limits and memory issues\n",
    "    \"\"\"\n",
    "    if not qd_client.collection_exists(collection_name=collection_name):\n",
    "        print(f'Collection {collection_name} does not exist.')\n",
    "        return\n",
    "    \n",
    "    total_characters = len(characters)\n",
    "    total_processed = 0\n",
    "\n",
    "    print(f\"Processing {total_characters} characters in chunk of {chunk_size}...\")\n",
    "\n",
    "    for i in range(0, total_characters, chunk_size):\n",
    "        chunk = characters[i:i + chunk_size]\n",
    "        character_names = [character[\"name\"] for character in chunk]\n",
    "\n",
    "        try:\n",
    "            print(f\"Processing chunk {i//chunk_size + 1}/{(total_characters + chunk_size - 1)//chunk_size}...\")\n",
    "\n",
    "            # Create embeddings for this chunk\n",
    "            embeddings = create_jina_embedding_batch(character_names)\n",
    "\n",
    "            # Create points\n",
    "            points = []\n",
    "            for character, embedding in zip(chunk, embeddings):\n",
    "                point = models.PointStruct(\n",
    "                    id=uuid.uuid4().hex,\n",
    "                    vector=embedding,\n",
    "                    payload=character\n",
    "                )\n",
    "                points.append(point)\n",
    "            \n",
    "            # Upsert this chunk\n",
    "            qd_client.upsert(\n",
    "                collection_name=collection_name,\n",
    "                points=points\n",
    "            )\n",
    "\n",
    "            total_processed += len(points)\n",
    "            print(f\"Processed {total_processed}/{total_characters} characters...\")\n",
    "\n",
    "            # Small delay between chunks to be nice to the API\n",
    "            time.sleep(1)\n",
    "        except Exception as e:\n",
    "            print(f\"Error processing chunk starting at index {i}: {str(e)}\")\n",
    "            continue\n",
    "    print(f\"Finished processing. Total upserted: {total_processed} entries...\")"
   ]
  },
  {
   "cell_type": "code",
   "execution_count": 48,
   "id": "064ac326",
   "metadata": {},
   "outputs": [
    {
     "name": "stdout",
     "output_type": "stream",
     "text": [
      "Deleted existing collection: lotr-characters\n",
      "Collection lotr-characters didn't exist, creating new one\n",
      "Created the new collection\n"
     ]
    }
   ],
   "source": [
    "reinitiate_collection()"
   ]
  },
  {
   "cell_type": "code",
   "execution_count": 49,
   "id": "3f3af4de",
   "metadata": {},
   "outputs": [
    {
     "name": "stdout",
     "output_type": "stream",
     "text": [
      "Processing 749 characters in chunk of 100...\n",
      "Processing chunk 1/8...\n",
      "Processed 100/749 characters...\n",
      "Processing chunk 2/8...\n",
      "Processed 200/749 characters...\n",
      "Processing chunk 3/8...\n",
      "Processed 300/749 characters...\n",
      "Processing chunk 4/8...\n",
      "Processed 400/749 characters...\n",
      "Processing chunk 5/8...\n",
      "Processed 500/749 characters...\n",
      "Processing chunk 6/8...\n",
      "Processed 600/749 characters...\n",
      "Processing chunk 7/8...\n",
      "Processed 700/749 characters...\n",
      "Processing chunk 8/8...\n",
      "Processed 749/749 characters...\n",
      "Finished processing. Total upserted: 749 entries...\n"
     ]
    }
   ],
   "source": [
    "upsert_to_qdrant_chunked()"
   ]
  },
  {
   "cell_type": "code",
   "execution_count": 53,
   "id": "6c76bf5d",
   "metadata": {},
   "outputs": [],
   "source": [
    "def search(query: str, limit: int = 1):\n",
    "    \"\"\"\n",
    "    Updated search function to use Jina API for query embedding\n",
    "    \"\"\"\n",
    "    try:\n",
    "        # Create embedding for the search query using Jina API\n",
    "        query_embedding = create_jina_embedding(input_text=query, task=querying_task)\n",
    "        \n",
    "        results = qd_client.query_points(\n",
    "            collection_name=collection_name,\n",
    "            query=query_embedding,\n",
    "            limit=limit,\n",
    "            with_payload=True\n",
    "        )\n",
    "        return results\n",
    "    except Exception as e:\n",
    "        print(f\"Error during search: {str(e)}\")"
   ]
  },
  {
   "cell_type": "code",
   "execution_count": 60,
   "id": "dff3ee82",
   "metadata": {},
   "outputs": [
    {
     "data": {
      "text/plain": [
       "QueryResponse(points=[ScoredPoint(id='d5cf8a4a-b47e-4f00-b28f-d70b203390aa', version=6, score=0.69371796, payload={'birth': 'TA 2844', 'death': None, 'gender': 'Male', 'hair': None, 'height': None, 'name': 'Hildifons Took', 'race': 'Hobbits', 'realm': None, 'spouse': None, 'biography': 'Hildifons Took was the sixth child of Gerontius \"The Old\" Took and Adamanta (Chubb) Took. Hildifons had five older siblings: Isengrim III, Hildigard, Isumbras IV, Hildigrim, and Isembold; as well as six younger siblings: Isembard, Hildibrand, Belladonna, Donnamira, Mirabella, and Isengar. Hildifons was a curious hobbit who never settled down. One day, he left the Shire on a journey and never returned.[1][2]', 'history': None}, vector=None, shard_key=None, order_value=None)])"
      ]
     },
     "execution_count": 60,
     "metadata": {},
     "output_type": "execute_result"
    }
   ],
   "source": [
    "search('witch king of angmar')"
   ]
  },
  {
   "cell_type": "code",
   "execution_count": null,
   "id": "6b7e505d",
   "metadata": {},
   "outputs": [],
   "source": []
  }
 ],
 "metadata": {
  "kernelspec": {
   "display_name": ".venv (3.11.2)",
   "language": "python",
   "name": "python3"
  },
  "language_info": {
   "codemirror_mode": {
    "name": "ipython",
    "version": 3
   },
   "file_extension": ".py",
   "mimetype": "text/x-python",
   "name": "python",
   "nbconvert_exporter": "python",
   "pygments_lexer": "ipython3",
   "version": "3.11.2"
  }
 },
 "nbformat": 4,
 "nbformat_minor": 5
}
