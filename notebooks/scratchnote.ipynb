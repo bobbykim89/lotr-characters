{
 "cells": [
  {
   "cell_type": "code",
   "execution_count": 23,
   "id": "71cc011a",
   "metadata": {},
   "outputs": [
    {
     "name": "stdout",
     "output_type": "stream",
     "text": [
      "hello world\n"
     ]
    }
   ],
   "source": [
    "import pandas as pd\n",
    "import json\n",
    "import requests\n",
    "from bs4 import BeautifulSoup\n",
    "\n",
    "print(\"hello world\")"
   ]
  },
  {
   "cell_type": "code",
   "execution_count": 8,
   "id": "b4b2b004",
   "metadata": {},
   "outputs": [],
   "source": [
    "character_csv = pd.read_csv('../assets/characters_with_link.csv', encoding='utf-8')\n",
    "character_csv.to_json('../assets/characters_with_link.json', orient='records', indent=4)"
   ]
  },
  {
   "cell_type": "code",
   "execution_count": 41,
   "id": "fa82b742",
   "metadata": {},
   "outputs": [],
   "source": [
    "char_detail_csv = pd.read_csv('../assets/characters_detail.csv', encoding='utf-8')\n",
    "char_detail_csv.to_json('../assets/characters_detail.json', orient='records', indent=4)"
   ]
  },
  {
   "cell_type": "code",
   "execution_count": null,
   "id": "4ba17275",
   "metadata": {},
   "outputs": [],
   "source": [
    "\n",
    "with open('../assets/characters_with_link.json', 'r') as file:\n",
    "    character_json = json.load(file)\n",
    "\n",
    "url_list = []\n",
    "for item in character_json:\n",
    "    if item['Url'] is not None:\n",
    "        url_list.append(item['Url'])\n",
    "\n"
   ]
  },
  {
   "cell_type": "code",
   "execution_count": 46,
   "id": "624e6f08",
   "metadata": {},
   "outputs": [],
   "source": [
    "with open('../assets/characters_detail.json', 'r') as file:\n",
    "    character_detail_json = json.load(file)"
   ]
  },
  {
   "cell_type": "code",
   "execution_count": null,
   "id": "84c7ccf1",
   "metadata": {},
   "outputs": [],
   "source": [
    "response = requests.get(url_list[0])\n",
    "soup = BeautifulSoup(response.content, 'html.parser')\n",
    "\n",
    "# Extract data\n",
    "# titles = soup.find_all(attrs='h2', class_=\"page-header__title\")\n",
    "biography_h2 = soup.find('span', id='Biography').parent"
   ]
  },
  {
   "cell_type": "code",
   "execution_count": null,
   "id": "cf16d642",
   "metadata": {},
   "outputs": [
    {
     "name": "stdout",
     "output_type": "stream",
     "text": [
      "Adanel married Belemir of the House of Bëor; he was a great-grandson of Bëor the Old. Adanel was the mother of five children, and her fifth and last child was a son: Beren.[1] His daughter, Emeldir \"the Man-hearted\", named her son after her father; this child was the renowned Beren Erchamion (Beren the One-handed). Thus, Adanel was the great-grandmother of Beren, son of Emeldir, her granddaughter.\n",
      "The Wise of the people of Marach were the only Men to preserve the tale of their original sin, when, soon after their awakening, the Men chose to worship Melkor instead of Eru. Adanel told this tale (called the Tale of Adanel in Morgoth's Ring) to Andreth of the House of Bëor.\n",
      "Andreth was a very distant niece of Adanel's husband Belemir through the line of Baran, the eldest son of Bëor, and Belemir through the line of his grandfather Belen, who was the youngest son of Bëor. In addition, Andreth's nephew Barahir married Adanel's granddaughter Emeldir.[2]\n"
     ]
    }
   ],
   "source": [
    "content = []\n",
    "current_elem = biography_h2.next_sibling\n",
    "\n",
    "while current_elem:\n",
    "    # Skip text nodes that are just whitespace\n",
    "    if current_elem.name:\n",
    "        # Stop if hit another h2\n",
    "        if current_elem.name == 'h2':\n",
    "            break\n",
    "        text_content = current_elem.get_text().strip()\n",
    "        content.append(text_content)\n",
    "    current_elem = current_elem.next_sibling\n",
    "\n",
    "biography_text = '\\n'.join(content)\n",
    "print(biography_text)\n"
   ]
  },
  {
   "cell_type": "code",
   "execution_count": 49,
   "id": "6afcc865",
   "metadata": {},
   "outputs": [
    {
     "name": "stdout",
     "output_type": "stream",
     "text": [
      "First matching obj: {'birth': None, 'death': None, 'gender': 'Female', 'hair': None, 'height': None, 'name': 'Adanel', 'race': 'Men', 'realm': None, 'spouse': 'Belemir'}\n"
     ]
    }
   ],
   "source": [
    "character_json[0]['Name']\n",
    "found_object = None\n",
    "\n",
    "for item in character_detail_json:\n",
    "    if item['name'] == character_json[0]['Name']:\n",
    "        found_object = item\n",
    "        break # Exit loop after finding the first match\n",
    "\n",
    "if found_object:\n",
    "    print(f\"First matching obj: {found_object}\")\n",
    "else:\n",
    "    print(f\"No object with found with name: {found_object}\")"
   ]
  },
  {
   "cell_type": "code",
   "execution_count": 51,
   "id": "46505702",
   "metadata": {},
   "outputs": [
    {
     "data": {
      "text/plain": [
       "{'birth': None,\n",
       " 'death': None,\n",
       " 'gender': 'Female',\n",
       " 'hair': None,\n",
       " 'height': None,\n",
       " 'name': 'Adanel',\n",
       " 'race': 'Men',\n",
       " 'realm': None,\n",
       " 'spouse': 'Belemir',\n",
       " 'biography': 'Adanel married Belemir of the House of Bëor; he was a great-grandson of Bëor the Old. Adanel was the mother of five children, and her fifth and last child was a son: Beren.[1] His daughter, Emeldir \"the Man-hearted\", named her son after her father; this child was the renowned Beren Erchamion (Beren the One-handed). Thus, Adanel was the great-grandmother of Beren, son of Emeldir, her granddaughter.\\nThe Wise of the people of Marach were the only Men to preserve the tale of their original sin, when, soon after their awakening, the Men chose to worship Melkor instead of Eru. Adanel told this tale (called the Tale of Adanel in Morgoth\\'s Ring) to Andreth of the House of Bëor.\\nAndreth was a very distant niece of Adanel\\'s husband Belemir through the line of Baran, the eldest son of Bëor, and Belemir through the line of his grandfather Belen, who was the youngest son of Bëor. In addition, Andreth\\'s nephew Barahir married Adanel\\'s granddaughter Emeldir.[2]'}"
      ]
     },
     "execution_count": 51,
     "metadata": {},
     "output_type": "execute_result"
    }
   ],
   "source": [
    "chacter_lore = dict(found_object, biography= biography_text)\n",
    "chacter_lore"
   ]
  },
  {
   "cell_type": "code",
   "execution_count": 3,
   "id": "e8eb1f0a",
   "metadata": {},
   "outputs": [
    {
     "data": {
      "text/plain": [
       "2"
      ]
     },
     "execution_count": 3,
     "metadata": {},
     "output_type": "execute_result"
    }
   ],
   "source": [
    "pollito =[ \"pollito\", \"pio\"]\n",
    "len(pollito)"
   ]
  },
  {
   "cell_type": "code",
   "execution_count": null,
   "id": "4a909dd5",
   "metadata": {},
   "outputs": [],
   "source": []
  }
 ],
 "metadata": {
  "kernelspec": {
   "display_name": ".venv (3.11.2)",
   "language": "python",
   "name": "python3"
  },
  "language_info": {
   "codemirror_mode": {
    "name": "ipython",
    "version": 3
   },
   "file_extension": ".py",
   "mimetype": "text/x-python",
   "name": "python",
   "nbconvert_exporter": "python",
   "pygments_lexer": "ipython3",
   "version": "3.11.2"
  }
 },
 "nbformat": 4,
 "nbformat_minor": 5
}
